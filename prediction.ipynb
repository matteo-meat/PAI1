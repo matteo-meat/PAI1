{
 "cells": [
  {
   "cell_type": "code",
   "execution_count": 27,
   "metadata": {},
   "outputs": [],
   "source": [
    "import numpy as np\n",
    "import matplotlib.pyplot as plt\n",
    "import torch\n",
    "import pandas as pd\n",
    "import os\n",
    "import glob"
   ]
  },
  {
   "cell_type": "code",
   "execution_count": 28,
   "metadata": {},
   "outputs": [],
   "source": [
    "models_list = [\"MLP\", \"MLP_RWF\", \"KAN\"]"
   ]
  },
  {
   "cell_type": "code",
   "execution_count": 29,
   "metadata": {},
   "outputs": [],
   "source": [
    "u_min, u_max = -0.21, 0.0\n",
    "x_min, x_max = 0.0, 1.0\n",
    "y_min, y_max = 0.0, 1.0\n",
    "t_f = 10\n",
    "f_min, f_max = -3.0, 0.0\n",
    "\n",
    "def hard_constraint(x_in, U_theta):\n",
    "    delta_u = u_max - u_min\n",
    "    delta_x = x_max - x_min\n",
    "    delta_y = y_max - y_min\n",
    "\n",
    "    X = x_in[0]\n",
    "    Y = x_in[1]\n",
    "    tau = x_in[-1]\n",
    "    x = X*delta_x + x_min\n",
    "    y = Y*delta_y + y_min\n",
    "    t = tau * t_f\n",
    "    u_theta = U_theta*delta_u + u_min\n",
    "\n",
    "    # se siamo sui bordi (qualsiasi dimensione) u=0, altrimenti abbiamo applicato una trasformazione non lineare a u_theta\n",
    "    u = u_theta * (x-x_min) *(x-x_max) * (y-y_min) * (y-y_max) * t\n",
    "    U = (u - u_min)/delta_u # forma esplicita: riga 72 in 73, poi righe 66-69 \n",
    "\n",
    "    # output normalizzato\n",
    "    return U"
   ]
  },
  {
   "cell_type": "code",
   "execution_count": 30,
   "metadata": {},
   "outputs": [
    {
     "name": "stdout",
     "output_type": "stream",
     "text": [
      "191700\n"
     ]
    }
   ],
   "source": [
    "# Paths and setup\n",
    "csv_path = 'matlab/only_damp/output_files/space_time_points.csv'\n",
    "batch_size = 500\n",
    "\n",
    "df = pd.read_csv(csv_path)\n",
    "\n",
    "# Convert pandas Series to numpy arrays\n",
    "X = df['x'].to_numpy()\n",
    "Y = df['y'].to_numpy()\n",
    "T = df['t'].to_numpy()\n",
    "\n",
    "n_samples = len(X)\n",
    "print(n_samples)\n",
    "\n",
    "predictions = np.zeros(n_samples)\n",
    "\n",
    "# Prepare input data as tensor\n",
    "inputs = np.column_stack((X, Y, T))\n",
    "inputs = torch.FloatTensor(inputs)\n"
   ]
  },
  {
   "cell_type": "code",
   "execution_count": null,
   "metadata": {},
   "outputs": [
    {
     "name": "stdout",
     "output_type": "stream",
     "text": [
      "Evaluating model in: training/MLP_1/model/model_145.pt\n",
      "1.0\n"
     ]
    },
    {
     "name": "stderr",
     "output_type": "stream",
     "text": [
      "/tmp/ipykernel_34342/2442602648.py:19: FutureWarning: You are using `torch.load` with `weights_only=False` (the current default value), which uses the default pickle module implicitly. It is possible to construct malicious pickle data which will execute arbitrary code during unpickling (See https://github.com/pytorch/pytorch/blob/main/SECURITY.md#untrusted-models for more details). In a future release, the default value for `weights_only` will be flipped to `True`. This limits the functions that could be executed during unpickling. Arbitrary objects will no longer be allowed to be loaded via this mode unless they are explicitly allowlisted by the user via `torch.serialization.add_safe_globals`. We recommend you start setting `weights_only=True` for any use case where you don't have full control of the loaded file. Please open an issue on GitHub for any issues related to this experimental feature.\n",
      "  model = torch.load(model_path)\n",
      "/tmp/ipykernel_34342/2442602648.py:28: DeprecationWarning: Conversion of an array with ndim > 0 to a scalar is deprecated, and will error in future. Ensure you extract a single element from your array before performing this operation. (Deprecated NumPy 1.25.)\n",
      "  predictions[i] = batch_outputs.cpu().numpy() # Only take the needed values\n"
     ]
    },
    {
     "name": "stdout",
     "output_type": "stream",
     "text": [
      "Predictions completed and saved to matlab/only_damp/output_files/MLP_1\n",
      "\n",
      "Sample predictions:\n",
      "      x    y    t  predicted_value\n",
      "0  0.00  1.0  0.0              1.0\n",
      "1  1.00  1.0  0.0              0.0\n",
      "2  1.00  0.0  0.0              0.0\n",
      "3  0.00  0.0  0.0              0.0\n",
      "4  0.05  0.0  0.0              0.0\n",
      "Predictions completed and saved to matlab/only_damp/output_files/MLP_1\n",
      "\n",
      "Sample predictions:\n",
      "      x    y    t  predicted_value\n",
      "0  0.00  1.0  0.0              1.0\n",
      "1  1.00  1.0  0.0              0.0\n",
      "2  1.00  0.0  0.0              0.0\n",
      "3  0.00  0.0  0.0              0.0\n",
      "4  0.05  0.0  0.0              0.0\n",
      "\n",
      "Prediction statistics:\n",
      "Mean: 0.0000\n",
      "Std: 0.0023\n",
      "Min: 0.0000\n",
      "Max: 1.0000\n",
      "1.0\n"
     ]
    },
    {
     "name": "stderr",
     "output_type": "stream",
     "text": [
      "/tmp/ipykernel_34342/2442602648.py:28: DeprecationWarning: Conversion of an array with ndim > 0 to a scalar is deprecated, and will error in future. Ensure you extract a single element from your array before performing this operation. (Deprecated NumPy 1.25.)\n",
      "  predictions[i] = batch_outputs.cpu().numpy() # Only take the needed values\n"
     ]
    },
    {
     "name": "stdout",
     "output_type": "stream",
     "text": [
      "Predictions completed and saved to matlab/only_damp/output_files/MLP_1\n",
      "\n",
      "Sample predictions:\n",
      "      x    y    t  predicted_value\n",
      "0  0.00  1.0  0.0              1.0\n",
      "1  1.00  1.0  0.0              1.0\n",
      "2  1.00  0.0  0.0              0.0\n",
      "3  0.00  0.0  0.0              0.0\n",
      "4  0.05  0.0  0.0              0.0\n",
      "Predictions completed and saved to matlab/only_damp/output_files/MLP_1\n",
      "\n",
      "Sample predictions:\n",
      "      x    y    t  predicted_value\n",
      "0  0.00  1.0  0.0              1.0\n",
      "1  1.00  1.0  0.0              1.0\n",
      "2  1.00  0.0  0.0              0.0\n",
      "3  0.00  0.0  0.0              0.0\n",
      "4  0.05  0.0  0.0              0.0\n",
      "\n",
      "Prediction statistics:\n",
      "Mean: 0.0000\n",
      "Std: 0.0032\n",
      "Min: 0.0000\n",
      "Max: 1.0000\n",
      "1.0\n"
     ]
    },
    {
     "name": "stderr",
     "output_type": "stream",
     "text": [
      "/tmp/ipykernel_34342/2442602648.py:28: DeprecationWarning: Conversion of an array with ndim > 0 to a scalar is deprecated, and will error in future. Ensure you extract a single element from your array before performing this operation. (Deprecated NumPy 1.25.)\n",
      "  predictions[i] = batch_outputs.cpu().numpy() # Only take the needed values\n"
     ]
    },
    {
     "name": "stdout",
     "output_type": "stream",
     "text": [
      "Predictions completed and saved to matlab/only_damp/output_files/MLP_1\n",
      "\n",
      "Sample predictions:\n",
      "      x    y    t  predicted_value\n",
      "0  0.00  1.0  0.0              1.0\n",
      "1  1.00  1.0  0.0              1.0\n",
      "2  1.00  0.0  0.0              1.0\n",
      "3  0.00  0.0  0.0              0.0\n",
      "4  0.05  0.0  0.0              0.0\n",
      "Predictions completed and saved to matlab/only_damp/output_files/MLP_1\n",
      "\n",
      "Sample predictions:\n",
      "      x    y    t  predicted_value\n",
      "0  0.00  1.0  0.0              1.0\n",
      "1  1.00  1.0  0.0              1.0\n",
      "2  1.00  0.0  0.0              1.0\n",
      "3  0.00  0.0  0.0              0.0\n",
      "4  0.05  0.0  0.0              0.0\n",
      "\n",
      "Prediction statistics:\n",
      "Mean: 0.0000\n",
      "Std: 0.0040\n",
      "Min: 0.0000\n",
      "Max: 1.0000\n",
      "1.0\n"
     ]
    },
    {
     "name": "stderr",
     "output_type": "stream",
     "text": [
      "/tmp/ipykernel_34342/2442602648.py:28: DeprecationWarning: Conversion of an array with ndim > 0 to a scalar is deprecated, and will error in future. Ensure you extract a single element from your array before performing this operation. (Deprecated NumPy 1.25.)\n",
      "  predictions[i] = batch_outputs.cpu().numpy() # Only take the needed values\n"
     ]
    },
    {
     "name": "stdout",
     "output_type": "stream",
     "text": [
      "Predictions completed and saved to matlab/only_damp/output_files/MLP_1\n",
      "\n",
      "Sample predictions:\n",
      "      x    y    t  predicted_value\n",
      "0  0.00  1.0  0.0              1.0\n",
      "1  1.00  1.0  0.0              1.0\n",
      "2  1.00  0.0  0.0              1.0\n",
      "3  0.00  0.0  0.0              1.0\n",
      "4  0.05  0.0  0.0              0.0\n",
      "Predictions completed and saved to matlab/only_damp/output_files/MLP_1\n",
      "\n",
      "Sample predictions:\n",
      "      x    y    t  predicted_value\n",
      "0  0.00  1.0  0.0              1.0\n",
      "1  1.00  1.0  0.0              1.0\n",
      "2  1.00  0.0  0.0              1.0\n",
      "3  0.00  0.0  0.0              1.0\n",
      "4  0.05  0.0  0.0              0.0\n",
      "\n",
      "Prediction statistics:\n",
      "Mean: 0.0000\n",
      "Std: 0.0046\n",
      "Min: 0.0000\n",
      "Max: 1.0000\n",
      "1.0\n"
     ]
    },
    {
     "name": "stderr",
     "output_type": "stream",
     "text": [
      "/tmp/ipykernel_34342/2442602648.py:28: DeprecationWarning: Conversion of an array with ndim > 0 to a scalar is deprecated, and will error in future. Ensure you extract a single element from your array before performing this operation. (Deprecated NumPy 1.25.)\n",
      "  predictions[i] = batch_outputs.cpu().numpy() # Only take the needed values\n"
     ]
    },
    {
     "name": "stdout",
     "output_type": "stream",
     "text": [
      "Predictions completed and saved to matlab/only_damp/output_files/MLP_1\n",
      "\n",
      "Sample predictions:\n",
      "      x    y    t  predicted_value\n",
      "0  0.00  1.0  0.0              1.0\n",
      "1  1.00  1.0  0.0              1.0\n",
      "2  1.00  0.0  0.0              1.0\n",
      "3  0.00  0.0  0.0              1.0\n",
      "4  0.05  0.0  0.0              1.0\n",
      "Predictions completed and saved to matlab/only_damp/output_files/MLP_1\n",
      "\n",
      "Sample predictions:\n",
      "      x    y    t  predicted_value\n",
      "0  0.00  1.0  0.0              1.0\n",
      "1  1.00  1.0  0.0              1.0\n",
      "2  1.00  0.0  0.0              1.0\n",
      "3  0.00  0.0  0.0              1.0\n",
      "4  0.05  0.0  0.0              1.0\n",
      "\n",
      "Prediction statistics:\n",
      "Mean: 0.0000\n",
      "Std: 0.0051\n",
      "Min: 0.0000\n",
      "Max: 1.0000\n",
      "1.0\n"
     ]
    },
    {
     "name": "stderr",
     "output_type": "stream",
     "text": [
      "/tmp/ipykernel_34342/2442602648.py:28: DeprecationWarning: Conversion of an array with ndim > 0 to a scalar is deprecated, and will error in future. Ensure you extract a single element from your array before performing this operation. (Deprecated NumPy 1.25.)\n",
      "  predictions[i] = batch_outputs.cpu().numpy() # Only take the needed values\n"
     ]
    },
    {
     "name": "stdout",
     "output_type": "stream",
     "text": [
      "Predictions completed and saved to matlab/only_damp/output_files/MLP_1\n",
      "\n",
      "Sample predictions:\n",
      "      x    y    t  predicted_value\n",
      "0  0.00  1.0  0.0              1.0\n",
      "1  1.00  1.0  0.0              1.0\n",
      "2  1.00  0.0  0.0              1.0\n",
      "3  0.00  0.0  0.0              1.0\n",
      "4  0.05  0.0  0.0              1.0\n",
      "Predictions completed and saved to matlab/only_damp/output_files/MLP_1\n",
      "\n",
      "Sample predictions:\n",
      "      x    y    t  predicted_value\n",
      "0  0.00  1.0  0.0              1.0\n",
      "1  1.00  1.0  0.0              1.0\n",
      "2  1.00  0.0  0.0              1.0\n",
      "3  0.00  0.0  0.0              1.0\n",
      "4  0.05  0.0  0.0              1.0\n",
      "\n",
      "Prediction statistics:\n",
      "Mean: 0.0000\n",
      "Std: 0.0056\n",
      "Min: 0.0000\n",
      "Max: 1.0000\n",
      "1.0\n"
     ]
    },
    {
     "name": "stderr",
     "output_type": "stream",
     "text": [
      "/tmp/ipykernel_34342/2442602648.py:28: DeprecationWarning: Conversion of an array with ndim > 0 to a scalar is deprecated, and will error in future. Ensure you extract a single element from your array before performing this operation. (Deprecated NumPy 1.25.)\n",
      "  predictions[i] = batch_outputs.cpu().numpy() # Only take the needed values\n"
     ]
    },
    {
     "name": "stdout",
     "output_type": "stream",
     "text": [
      "Predictions completed and saved to matlab/only_damp/output_files/MLP_1\n",
      "\n",
      "Sample predictions:\n",
      "      x    y    t  predicted_value\n",
      "0  0.00  1.0  0.0              1.0\n",
      "1  1.00  1.0  0.0              1.0\n",
      "2  1.00  0.0  0.0              1.0\n",
      "3  0.00  0.0  0.0              1.0\n",
      "4  0.05  0.0  0.0              1.0\n",
      "Predictions completed and saved to matlab/only_damp/output_files/MLP_1\n",
      "\n",
      "Sample predictions:\n",
      "      x    y    t  predicted_value\n",
      "0  0.00  1.0  0.0              1.0\n",
      "1  1.00  1.0  0.0              1.0\n",
      "2  1.00  0.0  0.0              1.0\n",
      "3  0.00  0.0  0.0              1.0\n",
      "4  0.05  0.0  0.0              1.0\n",
      "\n",
      "Prediction statistics:\n",
      "Mean: 0.0000\n",
      "Std: 0.0060\n",
      "Min: 0.0000\n",
      "Max: 1.0000\n",
      "1.0\n"
     ]
    },
    {
     "name": "stderr",
     "output_type": "stream",
     "text": [
      "/tmp/ipykernel_34342/2442602648.py:28: DeprecationWarning: Conversion of an array with ndim > 0 to a scalar is deprecated, and will error in future. Ensure you extract a single element from your array before performing this operation. (Deprecated NumPy 1.25.)\n",
      "  predictions[i] = batch_outputs.cpu().numpy() # Only take the needed values\n"
     ]
    },
    {
     "name": "stdout",
     "output_type": "stream",
     "text": [
      "Predictions completed and saved to matlab/only_damp/output_files/MLP_1\n",
      "\n",
      "Sample predictions:\n",
      "      x    y    t  predicted_value\n",
      "0  0.00  1.0  0.0              1.0\n",
      "1  1.00  1.0  0.0              1.0\n",
      "2  1.00  0.0  0.0              1.0\n",
      "3  0.00  0.0  0.0              1.0\n",
      "4  0.05  0.0  0.0              1.0\n",
      "Predictions completed and saved to matlab/only_damp/output_files/MLP_1\n",
      "\n",
      "Sample predictions:\n",
      "      x    y    t  predicted_value\n",
      "0  0.00  1.0  0.0              1.0\n",
      "1  1.00  1.0  0.0              1.0\n",
      "2  1.00  0.0  0.0              1.0\n",
      "3  0.00  0.0  0.0              1.0\n",
      "4  0.05  0.0  0.0              1.0\n",
      "\n",
      "Prediction statistics:\n",
      "Mean: 0.0000\n",
      "Std: 0.0065\n",
      "Min: 0.0000\n",
      "Max: 1.0000\n",
      "1.0\n"
     ]
    },
    {
     "name": "stderr",
     "output_type": "stream",
     "text": [
      "/tmp/ipykernel_34342/2442602648.py:28: DeprecationWarning: Conversion of an array with ndim > 0 to a scalar is deprecated, and will error in future. Ensure you extract a single element from your array before performing this operation. (Deprecated NumPy 1.25.)\n",
      "  predictions[i] = batch_outputs.cpu().numpy() # Only take the needed values\n"
     ]
    },
    {
     "name": "stdout",
     "output_type": "stream",
     "text": [
      "Predictions completed and saved to matlab/only_damp/output_files/MLP_1\n",
      "\n",
      "Sample predictions:\n",
      "      x    y    t  predicted_value\n",
      "0  0.00  1.0  0.0              1.0\n",
      "1  1.00  1.0  0.0              1.0\n",
      "2  1.00  0.0  0.0              1.0\n",
      "3  0.00  0.0  0.0              1.0\n",
      "4  0.05  0.0  0.0              1.0\n",
      "Predictions completed and saved to matlab/only_damp/output_files/MLP_1\n",
      "\n",
      "Sample predictions:\n",
      "      x    y    t  predicted_value\n",
      "0  0.00  1.0  0.0              1.0\n",
      "1  1.00  1.0  0.0              1.0\n",
      "2  1.00  0.0  0.0              1.0\n",
      "3  0.00  0.0  0.0              1.0\n",
      "4  0.05  0.0  0.0              1.0\n",
      "\n",
      "Prediction statistics:\n",
      "Mean: 0.0000\n",
      "Std: 0.0069\n",
      "Min: 0.0000\n",
      "Max: 1.0000\n",
      "1.0\n"
     ]
    },
    {
     "name": "stderr",
     "output_type": "stream",
     "text": [
      "/tmp/ipykernel_34342/2442602648.py:28: DeprecationWarning: Conversion of an array with ndim > 0 to a scalar is deprecated, and will error in future. Ensure you extract a single element from your array before performing this operation. (Deprecated NumPy 1.25.)\n",
      "  predictions[i] = batch_outputs.cpu().numpy() # Only take the needed values\n"
     ]
    },
    {
     "name": "stdout",
     "output_type": "stream",
     "text": [
      "Predictions completed and saved to matlab/only_damp/output_files/MLP_1\n",
      "\n",
      "Sample predictions:\n",
      "      x    y    t  predicted_value\n",
      "0  0.00  1.0  0.0              1.0\n",
      "1  1.00  1.0  0.0              1.0\n",
      "2  1.00  0.0  0.0              1.0\n",
      "3  0.00  0.0  0.0              1.0\n",
      "4  0.05  0.0  0.0              1.0\n",
      "Predictions completed and saved to matlab/only_damp/output_files/MLP_1\n",
      "\n",
      "Sample predictions:\n",
      "      x    y    t  predicted_value\n",
      "0  0.00  1.0  0.0              1.0\n",
      "1  1.00  1.0  0.0              1.0\n",
      "2  1.00  0.0  0.0              1.0\n",
      "3  0.00  0.0  0.0              1.0\n",
      "4  0.05  0.0  0.0              1.0\n",
      "\n",
      "Prediction statistics:\n",
      "Mean: 0.0001\n",
      "Std: 0.0072\n",
      "Min: 0.0000\n",
      "Max: 1.0000\n",
      "1.0\n"
     ]
    },
    {
     "name": "stderr",
     "output_type": "stream",
     "text": [
      "/tmp/ipykernel_34342/2442602648.py:28: DeprecationWarning: Conversion of an array with ndim > 0 to a scalar is deprecated, and will error in future. Ensure you extract a single element from your array before performing this operation. (Deprecated NumPy 1.25.)\n",
      "  predictions[i] = batch_outputs.cpu().numpy() # Only take the needed values\n"
     ]
    },
    {
     "name": "stdout",
     "output_type": "stream",
     "text": [
      "Predictions completed and saved to matlab/only_damp/output_files/MLP_1\n",
      "\n",
      "Sample predictions:\n",
      "      x    y    t  predicted_value\n",
      "0  0.00  1.0  0.0              1.0\n",
      "1  1.00  1.0  0.0              1.0\n",
      "2  1.00  0.0  0.0              1.0\n",
      "3  0.00  0.0  0.0              1.0\n",
      "4  0.05  0.0  0.0              1.0\n",
      "Predictions completed and saved to matlab/only_damp/output_files/MLP_1\n",
      "\n",
      "Sample predictions:\n",
      "      x    y    t  predicted_value\n",
      "0  0.00  1.0  0.0              1.0\n",
      "1  1.00  1.0  0.0              1.0\n",
      "2  1.00  0.0  0.0              1.0\n",
      "3  0.00  0.0  0.0              1.0\n",
      "4  0.05  0.0  0.0              1.0\n",
      "\n",
      "Prediction statistics:\n",
      "Mean: 0.0001\n",
      "Std: 0.0076\n",
      "Min: 0.0000\n",
      "Max: 1.0000\n",
      "1.0\n"
     ]
    },
    {
     "name": "stderr",
     "output_type": "stream",
     "text": [
      "/tmp/ipykernel_34342/2442602648.py:28: DeprecationWarning: Conversion of an array with ndim > 0 to a scalar is deprecated, and will error in future. Ensure you extract a single element from your array before performing this operation. (Deprecated NumPy 1.25.)\n",
      "  predictions[i] = batch_outputs.cpu().numpy() # Only take the needed values\n"
     ]
    },
    {
     "ename": "KeyboardInterrupt",
     "evalue": "",
     "output_type": "error",
     "traceback": [
      "\u001b[0;31m---------------------------------------------------------------------------\u001b[0m",
      "\u001b[0;31mKeyboardInterrupt\u001b[0m                         Traceback (most recent call last)",
      "Cell \u001b[0;32mIn[34], line 32\u001b[0m\n\u001b[1;32m     29\u001b[0m \u001b[38;5;28mprint\u001b[39m(predictions[i])\n\u001b[1;32m     31\u001b[0m df[\u001b[38;5;124m'\u001b[39m\u001b[38;5;124mpredicted_value\u001b[39m\u001b[38;5;124m'\u001b[39m] \u001b[38;5;241m=\u001b[39m predictions\n\u001b[0;32m---> 32\u001b[0m \u001b[43mdf\u001b[49m\u001b[38;5;241;43m.\u001b[39;49m\u001b[43mto_csv\u001b[49m\u001b[43m(\u001b[49m\u001b[43moutput_path\u001b[49m\u001b[43m \u001b[49m\u001b[38;5;241;43m+\u001b[39;49m\u001b[43m \u001b[49m\u001b[38;5;124;43m'\u001b[39;49m\u001b[38;5;124;43m/predictions.csv\u001b[39;49m\u001b[38;5;124;43m'\u001b[39;49m\u001b[43m,\u001b[49m\u001b[43m \u001b[49m\u001b[43mindex\u001b[49m\u001b[38;5;241;43m=\u001b[39;49m\u001b[38;5;28;43;01mFalse\u001b[39;49;00m\u001b[43m)\u001b[49m  \u001b[38;5;66;03m# Added '/predictions.csv' to the path\u001b[39;00m\n\u001b[1;32m     34\u001b[0m \u001b[38;5;28mprint\u001b[39m(\u001b[38;5;124mf\u001b[39m\u001b[38;5;124m\"\u001b[39m\u001b[38;5;124mPredictions completed and saved to \u001b[39m\u001b[38;5;132;01m{\u001b[39;00moutput_path\u001b[38;5;132;01m}\u001b[39;00m\u001b[38;5;124m\"\u001b[39m)\n\u001b[1;32m     35\u001b[0m \u001b[38;5;28mprint\u001b[39m(\u001b[38;5;124m\"\u001b[39m\u001b[38;5;130;01m\\n\u001b[39;00m\u001b[38;5;124mSample predictions:\u001b[39m\u001b[38;5;124m\"\u001b[39m)\n",
      "File \u001b[0;32m~/anaconda3/envs/medical/lib/python3.12/site-packages/pandas/util/_decorators.py:333\u001b[0m, in \u001b[0;36mdeprecate_nonkeyword_arguments.<locals>.decorate.<locals>.wrapper\u001b[0;34m(*args, **kwargs)\u001b[0m\n\u001b[1;32m    327\u001b[0m \u001b[38;5;28;01mif\u001b[39;00m \u001b[38;5;28mlen\u001b[39m(args) \u001b[38;5;241m>\u001b[39m num_allow_args:\n\u001b[1;32m    328\u001b[0m     warnings\u001b[38;5;241m.\u001b[39mwarn(\n\u001b[1;32m    329\u001b[0m         msg\u001b[38;5;241m.\u001b[39mformat(arguments\u001b[38;5;241m=\u001b[39m_format_argument_list(allow_args)),\n\u001b[1;32m    330\u001b[0m         \u001b[38;5;167;01mFutureWarning\u001b[39;00m,\n\u001b[1;32m    331\u001b[0m         stacklevel\u001b[38;5;241m=\u001b[39mfind_stack_level(),\n\u001b[1;32m    332\u001b[0m     )\n\u001b[0;32m--> 333\u001b[0m \u001b[38;5;28;01mreturn\u001b[39;00m \u001b[43mfunc\u001b[49m\u001b[43m(\u001b[49m\u001b[38;5;241;43m*\u001b[39;49m\u001b[43margs\u001b[49m\u001b[43m,\u001b[49m\u001b[43m \u001b[49m\u001b[38;5;241;43m*\u001b[39;49m\u001b[38;5;241;43m*\u001b[39;49m\u001b[43mkwargs\u001b[49m\u001b[43m)\u001b[49m\n",
      "File \u001b[0;32m~/anaconda3/envs/medical/lib/python3.12/site-packages/pandas/core/generic.py:3967\u001b[0m, in \u001b[0;36mNDFrame.to_csv\u001b[0;34m(self, path_or_buf, sep, na_rep, float_format, columns, header, index, index_label, mode, encoding, compression, quoting, quotechar, lineterminator, chunksize, date_format, doublequote, escapechar, decimal, errors, storage_options)\u001b[0m\n\u001b[1;32m   3956\u001b[0m df \u001b[38;5;241m=\u001b[39m \u001b[38;5;28mself\u001b[39m \u001b[38;5;28;01mif\u001b[39;00m \u001b[38;5;28misinstance\u001b[39m(\u001b[38;5;28mself\u001b[39m, ABCDataFrame) \u001b[38;5;28;01melse\u001b[39;00m \u001b[38;5;28mself\u001b[39m\u001b[38;5;241m.\u001b[39mto_frame()\n\u001b[1;32m   3958\u001b[0m formatter \u001b[38;5;241m=\u001b[39m DataFrameFormatter(\n\u001b[1;32m   3959\u001b[0m     frame\u001b[38;5;241m=\u001b[39mdf,\n\u001b[1;32m   3960\u001b[0m     header\u001b[38;5;241m=\u001b[39mheader,\n\u001b[0;32m   (...)\u001b[0m\n\u001b[1;32m   3964\u001b[0m     decimal\u001b[38;5;241m=\u001b[39mdecimal,\n\u001b[1;32m   3965\u001b[0m )\n\u001b[0;32m-> 3967\u001b[0m \u001b[38;5;28;01mreturn\u001b[39;00m \u001b[43mDataFrameRenderer\u001b[49m\u001b[43m(\u001b[49m\u001b[43mformatter\u001b[49m\u001b[43m)\u001b[49m\u001b[38;5;241;43m.\u001b[39;49m\u001b[43mto_csv\u001b[49m\u001b[43m(\u001b[49m\n\u001b[1;32m   3968\u001b[0m \u001b[43m    \u001b[49m\u001b[43mpath_or_buf\u001b[49m\u001b[43m,\u001b[49m\n\u001b[1;32m   3969\u001b[0m \u001b[43m    \u001b[49m\u001b[43mlineterminator\u001b[49m\u001b[38;5;241;43m=\u001b[39;49m\u001b[43mlineterminator\u001b[49m\u001b[43m,\u001b[49m\n\u001b[1;32m   3970\u001b[0m \u001b[43m    \u001b[49m\u001b[43msep\u001b[49m\u001b[38;5;241;43m=\u001b[39;49m\u001b[43msep\u001b[49m\u001b[43m,\u001b[49m\n\u001b[1;32m   3971\u001b[0m \u001b[43m    \u001b[49m\u001b[43mencoding\u001b[49m\u001b[38;5;241;43m=\u001b[39;49m\u001b[43mencoding\u001b[49m\u001b[43m,\u001b[49m\n\u001b[1;32m   3972\u001b[0m \u001b[43m    \u001b[49m\u001b[43merrors\u001b[49m\u001b[38;5;241;43m=\u001b[39;49m\u001b[43merrors\u001b[49m\u001b[43m,\u001b[49m\n\u001b[1;32m   3973\u001b[0m \u001b[43m    \u001b[49m\u001b[43mcompression\u001b[49m\u001b[38;5;241;43m=\u001b[39;49m\u001b[43mcompression\u001b[49m\u001b[43m,\u001b[49m\n\u001b[1;32m   3974\u001b[0m \u001b[43m    \u001b[49m\u001b[43mquoting\u001b[49m\u001b[38;5;241;43m=\u001b[39;49m\u001b[43mquoting\u001b[49m\u001b[43m,\u001b[49m\n\u001b[1;32m   3975\u001b[0m \u001b[43m    \u001b[49m\u001b[43mcolumns\u001b[49m\u001b[38;5;241;43m=\u001b[39;49m\u001b[43mcolumns\u001b[49m\u001b[43m,\u001b[49m\n\u001b[1;32m   3976\u001b[0m \u001b[43m    \u001b[49m\u001b[43mindex_label\u001b[49m\u001b[38;5;241;43m=\u001b[39;49m\u001b[43mindex_label\u001b[49m\u001b[43m,\u001b[49m\n\u001b[1;32m   3977\u001b[0m \u001b[43m    \u001b[49m\u001b[43mmode\u001b[49m\u001b[38;5;241;43m=\u001b[39;49m\u001b[43mmode\u001b[49m\u001b[43m,\u001b[49m\n\u001b[1;32m   3978\u001b[0m \u001b[43m    \u001b[49m\u001b[43mchunksize\u001b[49m\u001b[38;5;241;43m=\u001b[39;49m\u001b[43mchunksize\u001b[49m\u001b[43m,\u001b[49m\n\u001b[1;32m   3979\u001b[0m \u001b[43m    \u001b[49m\u001b[43mquotechar\u001b[49m\u001b[38;5;241;43m=\u001b[39;49m\u001b[43mquotechar\u001b[49m\u001b[43m,\u001b[49m\n\u001b[1;32m   3980\u001b[0m \u001b[43m    \u001b[49m\u001b[43mdate_format\u001b[49m\u001b[38;5;241;43m=\u001b[39;49m\u001b[43mdate_format\u001b[49m\u001b[43m,\u001b[49m\n\u001b[1;32m   3981\u001b[0m \u001b[43m    \u001b[49m\u001b[43mdoublequote\u001b[49m\u001b[38;5;241;43m=\u001b[39;49m\u001b[43mdoublequote\u001b[49m\u001b[43m,\u001b[49m\n\u001b[1;32m   3982\u001b[0m \u001b[43m    \u001b[49m\u001b[43mescapechar\u001b[49m\u001b[38;5;241;43m=\u001b[39;49m\u001b[43mescapechar\u001b[49m\u001b[43m,\u001b[49m\n\u001b[1;32m   3983\u001b[0m \u001b[43m    \u001b[49m\u001b[43mstorage_options\u001b[49m\u001b[38;5;241;43m=\u001b[39;49m\u001b[43mstorage_options\u001b[49m\u001b[43m,\u001b[49m\n\u001b[1;32m   3984\u001b[0m \u001b[43m\u001b[49m\u001b[43m)\u001b[49m\n",
      "File \u001b[0;32m~/anaconda3/envs/medical/lib/python3.12/site-packages/pandas/io/formats/format.py:1014\u001b[0m, in \u001b[0;36mDataFrameRenderer.to_csv\u001b[0;34m(self, path_or_buf, encoding, sep, columns, index_label, mode, compression, quoting, quotechar, lineterminator, chunksize, date_format, doublequote, escapechar, errors, storage_options)\u001b[0m\n\u001b[1;32m    993\u001b[0m     created_buffer \u001b[38;5;241m=\u001b[39m \u001b[38;5;28;01mFalse\u001b[39;00m\n\u001b[1;32m    995\u001b[0m csv_formatter \u001b[38;5;241m=\u001b[39m CSVFormatter(\n\u001b[1;32m    996\u001b[0m     path_or_buf\u001b[38;5;241m=\u001b[39mpath_or_buf,\n\u001b[1;32m    997\u001b[0m     lineterminator\u001b[38;5;241m=\u001b[39mlineterminator,\n\u001b[0;32m   (...)\u001b[0m\n\u001b[1;32m   1012\u001b[0m     formatter\u001b[38;5;241m=\u001b[39m\u001b[38;5;28mself\u001b[39m\u001b[38;5;241m.\u001b[39mfmt,\n\u001b[1;32m   1013\u001b[0m )\n\u001b[0;32m-> 1014\u001b[0m \u001b[43mcsv_formatter\u001b[49m\u001b[38;5;241;43m.\u001b[39;49m\u001b[43msave\u001b[49m\u001b[43m(\u001b[49m\u001b[43m)\u001b[49m\n\u001b[1;32m   1016\u001b[0m \u001b[38;5;28;01mif\u001b[39;00m created_buffer:\n\u001b[1;32m   1017\u001b[0m     \u001b[38;5;28;01massert\u001b[39;00m \u001b[38;5;28misinstance\u001b[39m(path_or_buf, StringIO)\n",
      "File \u001b[0;32m~/anaconda3/envs/medical/lib/python3.12/site-packages/pandas/io/formats/csvs.py:270\u001b[0m, in \u001b[0;36mCSVFormatter.save\u001b[0;34m(self)\u001b[0m\n\u001b[1;32m    251\u001b[0m \u001b[38;5;28;01mwith\u001b[39;00m get_handle(\n\u001b[1;32m    252\u001b[0m     \u001b[38;5;28mself\u001b[39m\u001b[38;5;241m.\u001b[39mfilepath_or_buffer,\n\u001b[1;32m    253\u001b[0m     \u001b[38;5;28mself\u001b[39m\u001b[38;5;241m.\u001b[39mmode,\n\u001b[0;32m   (...)\u001b[0m\n\u001b[1;32m    258\u001b[0m ) \u001b[38;5;28;01mas\u001b[39;00m handles:\n\u001b[1;32m    259\u001b[0m     \u001b[38;5;66;03m# Note: self.encoding is irrelevant here\u001b[39;00m\n\u001b[1;32m    260\u001b[0m     \u001b[38;5;28mself\u001b[39m\u001b[38;5;241m.\u001b[39mwriter \u001b[38;5;241m=\u001b[39m csvlib\u001b[38;5;241m.\u001b[39mwriter(\n\u001b[1;32m    261\u001b[0m         handles\u001b[38;5;241m.\u001b[39mhandle,\n\u001b[1;32m    262\u001b[0m         lineterminator\u001b[38;5;241m=\u001b[39m\u001b[38;5;28mself\u001b[39m\u001b[38;5;241m.\u001b[39mlineterminator,\n\u001b[0;32m   (...)\u001b[0m\n\u001b[1;32m    267\u001b[0m         quotechar\u001b[38;5;241m=\u001b[39m\u001b[38;5;28mself\u001b[39m\u001b[38;5;241m.\u001b[39mquotechar,\n\u001b[1;32m    268\u001b[0m     )\n\u001b[0;32m--> 270\u001b[0m     \u001b[38;5;28;43mself\u001b[39;49m\u001b[38;5;241;43m.\u001b[39;49m\u001b[43m_save\u001b[49m\u001b[43m(\u001b[49m\u001b[43m)\u001b[49m\n",
      "File \u001b[0;32m~/anaconda3/envs/medical/lib/python3.12/site-packages/pandas/io/formats/csvs.py:275\u001b[0m, in \u001b[0;36mCSVFormatter._save\u001b[0;34m(self)\u001b[0m\n\u001b[1;32m    273\u001b[0m \u001b[38;5;28;01mif\u001b[39;00m \u001b[38;5;28mself\u001b[39m\u001b[38;5;241m.\u001b[39m_need_to_save_header:\n\u001b[1;32m    274\u001b[0m     \u001b[38;5;28mself\u001b[39m\u001b[38;5;241m.\u001b[39m_save_header()\n\u001b[0;32m--> 275\u001b[0m \u001b[38;5;28;43mself\u001b[39;49m\u001b[38;5;241;43m.\u001b[39;49m\u001b[43m_save_body\u001b[49m\u001b[43m(\u001b[49m\u001b[43m)\u001b[49m\n",
      "File \u001b[0;32m~/anaconda3/envs/medical/lib/python3.12/site-packages/pandas/io/formats/csvs.py:313\u001b[0m, in \u001b[0;36mCSVFormatter._save_body\u001b[0;34m(self)\u001b[0m\n\u001b[1;32m    311\u001b[0m \u001b[38;5;28;01mif\u001b[39;00m start_i \u001b[38;5;241m>\u001b[39m\u001b[38;5;241m=\u001b[39m end_i:\n\u001b[1;32m    312\u001b[0m     \u001b[38;5;28;01mbreak\u001b[39;00m\n\u001b[0;32m--> 313\u001b[0m \u001b[38;5;28;43mself\u001b[39;49m\u001b[38;5;241;43m.\u001b[39;49m\u001b[43m_save_chunk\u001b[49m\u001b[43m(\u001b[49m\u001b[43mstart_i\u001b[49m\u001b[43m,\u001b[49m\u001b[43m \u001b[49m\u001b[43mend_i\u001b[49m\u001b[43m)\u001b[49m\n",
      "File \u001b[0;32m~/anaconda3/envs/medical/lib/python3.12/site-packages/pandas/io/formats/csvs.py:324\u001b[0m, in \u001b[0;36mCSVFormatter._save_chunk\u001b[0;34m(self, start_i, end_i)\u001b[0m\n\u001b[1;32m    321\u001b[0m data \u001b[38;5;241m=\u001b[39m \u001b[38;5;28mlist\u001b[39m(res\u001b[38;5;241m.\u001b[39m_iter_column_arrays())\n\u001b[1;32m    323\u001b[0m ix \u001b[38;5;241m=\u001b[39m \u001b[38;5;28mself\u001b[39m\u001b[38;5;241m.\u001b[39mdata_index[slicer]\u001b[38;5;241m.\u001b[39m_get_values_for_csv(\u001b[38;5;241m*\u001b[39m\u001b[38;5;241m*\u001b[39m\u001b[38;5;28mself\u001b[39m\u001b[38;5;241m.\u001b[39m_number_format)\n\u001b[0;32m--> 324\u001b[0m \u001b[43mlibwriters\u001b[49m\u001b[38;5;241;43m.\u001b[39;49m\u001b[43mwrite_csv_rows\u001b[49m\u001b[43m(\u001b[49m\n\u001b[1;32m    325\u001b[0m \u001b[43m    \u001b[49m\u001b[43mdata\u001b[49m\u001b[43m,\u001b[49m\n\u001b[1;32m    326\u001b[0m \u001b[43m    \u001b[49m\u001b[43mix\u001b[49m\u001b[43m,\u001b[49m\n\u001b[1;32m    327\u001b[0m \u001b[43m    \u001b[49m\u001b[38;5;28;43mself\u001b[39;49m\u001b[38;5;241;43m.\u001b[39;49m\u001b[43mnlevels\u001b[49m\u001b[43m,\u001b[49m\n\u001b[1;32m    328\u001b[0m \u001b[43m    \u001b[49m\u001b[38;5;28;43mself\u001b[39;49m\u001b[38;5;241;43m.\u001b[39;49m\u001b[43mcols\u001b[49m\u001b[43m,\u001b[49m\n\u001b[1;32m    329\u001b[0m \u001b[43m    \u001b[49m\u001b[38;5;28;43mself\u001b[39;49m\u001b[38;5;241;43m.\u001b[39;49m\u001b[43mwriter\u001b[49m\u001b[43m,\u001b[49m\n\u001b[1;32m    330\u001b[0m \u001b[43m\u001b[49m\u001b[43m)\u001b[49m\n",
      "File \u001b[0;32mwriters.pyx:73\u001b[0m, in \u001b[0;36mpandas._libs.writers.write_csv_rows\u001b[0;34m()\u001b[0m\n",
      "\u001b[0;31mKeyboardInterrupt\u001b[0m: "
     ]
    }
   ],
   "source": [
    "for model in models_list:\n",
    "    for i in range(1, 7):\n",
    "        model_path = \"training/\" + model + \"_\" + str(i) + \"/model/\"\n",
    "\n",
    "        output_path = 'matlab/only_damp/output_files/' + model + \"_\" + str(i)\n",
    "        if not os.path.exists(output_path):\n",
    "            os.makedirs(output_path)\n",
    "        \n",
    "        model_files = glob.glob(os.path.join(model_path, \"model_*.pt\"))\n",
    "        if model_files:\n",
    "        # Extract numbers and find the highest one\n",
    "            latest_model = max(model_files, key=lambda x: int(x.split(\"_\")[-1].split(\".\")[0]))\n",
    "            print(\"Evaluating model in:\", latest_model)\n",
    "        else:\n",
    "            print(\"No model files found in the directory.\")\n",
    "\n",
    "        model_path = latest_model\n",
    "\n",
    "        model = torch.load(model_path)\n",
    "        model.eval()\n",
    "        \n",
    "        # Process in batches\n",
    "        with torch.no_grad():\n",
    "            for i in range(0, n_samples):\n",
    "                # end_idx = min(i + batch_size, n_samples)  # Ensure we don't go past the array end\n",
    "                batch_inputs = inputs[i]\n",
    "                batch_outputs = model(batch_inputs)\n",
    "                predictions[i] = batch_outputs.cpu().numpy() # Only take the needed values\n",
    "                print(predictions[i])\n",
    "\n",
    "        df['predicted_value'] = predictions\n",
    "        df.to_csv(output_path + '/predictions.csv', index=False)  # Added '/predictions.csv' to the path\n",
    "\n",
    "        print(f\"Predictions completed and saved to {output_path}\")\n",
    "        print(\"\\nSample predictions:\")\n",
    "        print(df.head())\n",
    "\n",
    "        df['predicted_value'] = predictions\n",
    "        df.to_csv(output_path + '/predictions.csv', index=False)  # Added '/predictions.csv' to the path\n",
    "\n",
    "        print(f\"Predictions completed and saved to {output_path}\")\n",
    "        print(\"\\nSample predictions:\")\n",
    "        print(df.head())\n",
    "\n",
    "        # Print statistics about the predictions\n",
    "        print(\"\\nPrediction statistics:\")\n",
    "        print(f\"Mean: {predictions.mean():.4f}\")\n",
    "        print(f\"Std: {predictions.std():.4f}\")\n",
    "        print(f\"Min: {predictions.min():.4f}\")\n",
    "        print(f\"Max: {predictions.max():.4f}\")"
   ]
  }
 ],
 "metadata": {
  "kernelspec": {
   "display_name": "pai",
   "language": "python",
   "name": "python3"
  },
  "language_info": {
   "codemirror_mode": {
    "name": "ipython",
    "version": 3
   },
   "file_extension": ".py",
   "mimetype": "text/x-python",
   "name": "python",
   "nbconvert_exporter": "python",
   "pygments_lexer": "ipython3",
   "version": "3.10.13"
  }
 },
 "nbformat": 4,
 "nbformat_minor": 2
}
