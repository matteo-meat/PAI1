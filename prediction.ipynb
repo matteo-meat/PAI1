{
 "cells": [
  {
   "cell_type": "code",
   "execution_count": 1,
   "metadata": {},
   "outputs": [],
   "source": [
    "import numpy as np\n",
    "import matplotlib.pyplot as plt\n",
    "import torch\n",
    "import pandas as pd"
   ]
  },
  {
   "cell_type": "code",
   "execution_count": 6,
   "metadata": {},
   "outputs": [],
   "source": [
    "u_min, u_max = -0.21, 0.0\n",
    "x_min, x_max = 0.0, 1.0\n",
    "y_min, y_max = 0.0, 1.0\n",
    "t_f = 10\n",
    "f_min, f_max = -3.0, 0.0\n",
    "\n",
    "def hard_constraint(x_in, U_theta):\n",
    "    delta_u = u_max - u_min\n",
    "    delta_x = x_max - x_min\n",
    "    delta_y = y_max - y_min\n",
    "\n",
    "    X = x_in[0]\n",
    "    Y = x_in[1]\n",
    "    tau = x_in[-1]\n",
    "    x = X*delta_x + x_min\n",
    "    y = Y*delta_y + y_min\n",
    "    t = tau * t_f\n",
    "    u_theta = U_theta*delta_u + u_min\n",
    "\n",
    "    # se siamo sui bordi (qualsiasi dimensione) u=0, altrimenti abbiamo applicato una trasformazione non lineare a u_theta\n",
    "    u = u_theta * (x-x_min) *(x-x_max) * (y-y_min) * (y-y_max) * t\n",
    "    U = (u - u_min)/delta_u # forma esplicita: riga 72 in 73, poi righe 66-69 \n",
    "\n",
    "    # output normalizzato\n",
    "    return U"
   ]
  },
  {
   "cell_type": "code",
   "execution_count": null,
   "metadata": {},
   "outputs": [
    {
     "name": "stdout",
     "output_type": "stream",
     "text": [
      "Predictions completed and saved to matlab/only_damp\n",
      "\n",
      "Sample predictions:\n",
      "      x    y    t  predicted_value\n",
      "0  0.00  1.0  0.0              1.0\n",
      "1  1.00  1.0  0.0              1.0\n",
      "2  1.00  0.0  0.0              1.0\n",
      "3  0.00  0.0  0.0              1.0\n",
      "4  0.05  0.0  0.0              1.0\n",
      "\n",
      "Prediction statistics:\n",
      "Mean: 51365.3620\n",
      "Std: 171145.4632\n",
      "Min: -227.1750\n",
      "Max: 764751.5625\n"
     ]
    },
    {
     "name": "stderr",
     "output_type": "stream",
     "text": [
      "/var/folders/kk/2c_8134s1jqf2s0cx82ytg3h0000gn/T/ipykernel_53029/3601177203.py:12: FutureWarning: You are using `torch.load` with `weights_only=False` (the current default value), which uses the default pickle module implicitly. It is possible to construct malicious pickle data which will execute arbitrary code during unpickling (See https://github.com/pytorch/pytorch/blob/main/SECURITY.md#untrusted-models for more details). In a future release, the default value for `weights_only` will be flipped to `True`. This limits the functions that could be executed during unpickling. Arbitrary objects will no longer be allowed to be loaded via this mode unless they are explicitly allowlisted by the user via `torch.serialization.add_safe_globals`. We recommend you start setting `weights_only=True` for any use case where you don't have full control of the loaded file. Please open an issue on GitHub for any issues related to this experimental feature.\n",
      "  model = torch.load(model_path)\n"
     ]
    }
   ],
   "source": [
    "import torch\n",
    "import pandas as pd\n",
    "import numpy as np\n",
    "\n",
    "# Paths and setup\n",
    "model_path = '/Users/francesco/Desktop/PAI1/training/KAN_2/model/model_324.pt'\n",
    "csv_path = 'matlab/only_damp/space_time_points.csv'\n",
    "output_path = 'matlab/only_damp'\n",
    "batch_size = 500\n",
    "\n",
    "# Load model and data\n",
    "model = torch.load(model_path)\n",
    "model.eval()\n",
    "\n",
    "df = pd.read_csv(csv_path)\n",
    "\n",
    "# Convert pandas Series to numpy arrays\n",
    "X = df['x'].to_numpy()\n",
    "Y = df['y'].to_numpy()\n",
    "T = df['t'].to_numpy()\n",
    "\n",
    "n_samples = len(X)\n",
    "predictions = np.zeros(n_samples)\n",
    "\n",
    "# Prepare input data as tensor\n",
    "inputs = np.column_stack((X, Y, T))\n",
    "inputs = torch.FloatTensor(inputs)\n",
    "\n",
    "# Process in batches\n",
    "with torch.no_grad():\n",
    "    for i in range(0, n_samples, batch_size):\n",
    "        end_idx = min(i + batch_size, n_samples)  # Ensure we don't go past the array end\n",
    "        batch_inputs = inputs[i:end_idx]\n",
    "        batch_outputs = model(batch_inputs)\n",
    "        predictions[i:end_idx] = batch_outputs.cpu().numpy().flatten()[:end_idx-i]  # Only take the needed values\n",
    "\n",
    "# Save predictions\n",
    "df['predicted_value'] = predictions\n",
    "df.to_csv(output_path + '/predictions.csv', index=False)  # Added '/predictions.csv' to the path\n",
    "\n",
    "print(f\"Predictions completed and saved to {output_path}\")\n",
    "print(\"\\nSample predictions:\")\n",
    "print(df.head())\n",
    "\n",
    "# Print statistics about the predictions\n",
    "print(\"\\nPrediction statistics:\")\n",
    "print(f\"Mean: {predictions.mean():.4f}\")\n",
    "print(f\"Std: {predictions.std():.4f}\")\n",
    "print(f\"Min: {predictions.min():.4f}\")\n",
    "print(f\"Max: {predictions.max():.4f}\")\n"
   ]
  }
 ],
 "metadata": {
  "kernelspec": {
   "display_name": "pai",
   "language": "python",
   "name": "python3"
  },
  "language_info": {
   "codemirror_mode": {
    "name": "ipython",
    "version": 3
   },
   "file_extension": ".py",
   "mimetype": "text/x-python",
   "name": "python",
   "nbconvert_exporter": "python",
   "pygments_lexer": "ipython3",
   "version": "3.10.13"
  }
 },
 "nbformat": 4,
 "nbformat_minor": 2
}
